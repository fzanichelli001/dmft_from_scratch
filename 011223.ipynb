{
 "cells": [
  {
   "cell_type": "code",
   "execution_count": 72,
   "metadata": {},
   "outputs": [],
   "source": [
    "import sys  \n",
    "sys.path.insert(0, './codes')\n",
    "\n",
    "from pade_func import pade_analytic_continuation\n",
    "\n",
    "\n",
    "#### NOTE: hbar and k_B are equal to 1"
   ]
  },
  {
   "cell_type": "code",
   "execution_count": 74,
   "metadata": {},
   "outputs": [],
   "source": [
    "import numpy as np\n",
    "import matplotlib.pyplot as plt\n",
    "import holoviews as hv\n",
    "import pandas as pd\n",
    "import xarray as xr"
   ]
  },
  {
   "cell_type": "code",
   "execution_count": 60,
   "metadata": {},
   "outputs": [],
   "source": [
    "def density_of_states_behte_non_int (omega, D):\n",
    "    '''\n",
    "    density of states of a Bethe lattice with infinite connectivity \n",
    "    (from the analytical expression of the non interacting GF)\n",
    "\n",
    "    input:      omega       real frequency/energy \n",
    "                D           bandwidth, the density of states is non zero for |omega|<D\n",
    "\n",
    "    output:     rho(omega)  densiy of states, rho(w)=2*sqrt(D^2-w^2)/pi*D^2\n",
    "    '''\n",
    "\n",
    "    return 2*np.sqrt(D**2-omega**2)/np.pi*D**2\n",
    "\n",
    "def get_Gloc(rho,omega_n,eps):\n",
    "    '''\n",
    "    get local interacting green's function\n",
    "    input:    rho           vector with density of states evaluated at all the energy steps of the integral\n",
    "              omega_n       vector with matzubara frequencies form O to N_matz_freq\n",
    "              eps           values of energies of the integration = eps=np.linspace(-D,D,len(omega_n))\n",
    "    '''\n",
    "    sigma_imp=0.\n",
    "\n",
    "    Gloc=np.zeros(len(omega_n))+0*1j\n",
    "    d_eps=(eps[-1]-eps[0])/len(eps)\n",
    "\n",
    "    for i in range(len(eps)):\n",
    "        Gloc += rho[i]/(omega_n-eps[i]-sigma_imp)*d_eps\n",
    "    return Gloc\n",
    "\n"
   ]
  },
  {
   "cell_type": "code",
   "execution_count": 61,
   "metadata": {},
   "outputs": [],
   "source": [
    "N_cutoff = 500\n",
    "##### TODO:  CHECK THE CUTOFF FOR EVALUATING THE SUM IN THE FOURIER TRANSFORM  ############\n",
    "\n",
    "def fourier_trans_to_imag_time(func, beta, tau):\n",
    "    '''\n",
    "    Fourier transform of a function G(i*omega_n) where i*omega_n are Matzubara frequencies\n",
    "    (needed to perform the Iterative Perturbation Theory Step)\n",
    "    \n",
    "    input:      func        G(i*omega_n): function of i*omega (Matzubara frequencies)\n",
    "                beta        inverse temperature\n",
    "                tau         imaginary time        \n",
    "\n",
    "    output:     G(tau)      function of the imaginary time (tau), G(tau)=(1/beta)* sum_(w_n)  (e^i*w_n*tau)*G(i*omega_n)\n",
    "    '''\n",
    "\n",
    "    nn = np.linspace(start=0, stop=N_cutoff, num=N_cutoff, dtype=int)\n",
    "    matz_frequencies = np.pi*(1/beta) * (2*nn + 1)\n",
    "    \n",
    "    G_iw = func\n",
    "    exponential_iw = np.exp(-1j * matz_frequencies*tau)\n",
    "\n",
    "    return  np.sum(exponential_iw*G_iw) / beta"
   ]
  },
  {
   "cell_type": "code",
   "execution_count": 62,
   "metadata": {},
   "outputs": [],
   "source": [
    "########### TODO: find limits of integration for the integral in time!!!  \n",
    "time_integral_steps=500\n",
    "\n",
    "def iterative_perturbation_theory_impurity_solver(impurity_non_int_greens_func, iomega, U, beta):\n",
    "    '''\n",
    "    finds the self energy of the auxiliary Anderson impurtity model Sigma_imp\n",
    "    from this it evaluates also the interacting Green's function of the auxiliary system (G coursive)\n",
    "\n",
    "    input:      impurity_non_int_greens_func        G_0 (iomega) coursive: non interacting Green's function of the auxiliary system\n",
    "                                                                           encoded in step (3) and evaluated on Matzubara frequency\n",
    "                iomega                              Matzubara frequency i*omega_n\n",
    "                U                                   impurity interaction\n",
    "                beta                                inverse temperature  \n",
    "\n",
    "    output:     impurity_self_energy(iomega)        self energy of the auxiliary system    Sigma_imp(iw)=U/2 + U^2 * int_0^beta d(tau) (e^i*w_n*tau) * G_0^shifted(tau)^3\n",
    "                                                                                           knowing G_0^shifted(iw)= (G_0(iw)^-1  - U/2)^-1     where all the G are coursive\n",
    "                impurity_int_greens_func(iomega)    interacting GF of the auxiliary system   G(iw) = (  G_0(iw)^-1 - Sigma_imp(iw)  )^-1          where all the G are coursive\n",
    "\n",
    "    note: this fucntion uses the function fourier_trans_to_imag_time() to convert G_0^shifted(iw) coursive in imaginary time\n",
    "    '''\n",
    "\n",
    "    # I calculate G_0_shifted(iw) as a function of iomega\n",
    "    shifted_impurity_non_int_greens_func = 1 / ( (1/impurity_non_int_greens_func) - U*0.5 )\n",
    "\n",
    "    # I calculate the fourier transform G_0_shifted(tau)\n",
    "    tau = np.linspace(start=0, stop=beta, num=time_integral_steps)\n",
    "    G_0_shifted_tau = fourier_trans_to_imag_time(shifted_impurity_non_int_greens_func, beta, tau)\n",
    "    exponential_tau = np.exp(1j * iomega*tau)\n",
    "\n",
    "    # I calculate the integral\n",
    "    integral = np.sum(exponential_tau * G_0_shifted_tau**3)\n",
    "\n",
    "    # I get Sigma_imp and the interacting GF of the impurity\n",
    "    Sigma_imp = U*0.5 + U**2  * integral\n",
    "\n",
    "    G_0_iw = impurity_non_int_greens_func\n",
    "    G_imp = 1 / ( 1/G_0_iw + Sigma_imp )\n",
    "    return Sigma_imp, G_imp"
   ]
  },
  {
   "cell_type": "markdown",
   "metadata": {},
   "source": [
    "## Test of analytic continuation for the Bethe lattice "
   ]
  },
  {
   "cell_type": "code",
   "execution_count": 66,
   "metadata": {},
   "outputs": [
    {
     "name": "stderr",
     "output_type": "stream",
     "text": [
      "/var/folders/p9/vmfpstws7vd67rl49m49vhxr0000gq/T/ipykernel_89239/2877449616.py:12: RuntimeWarning: invalid value encountered in sqrt\n",
      "  return 2*np.sqrt(D**2-omega**2)/np.pi*D**2\n"
     ]
    },
    {
     "data": {
      "image/png": "[encoded data removed]",
      "text/plain": [
       "<Figure size 640x480 with 1 Axes>"
      ]
     },
     "metadata": {},
     "output_type": "display_data"
    }
   ],
   "source": [
    "beta=20\n",
    "D = 1.0\n",
    "N_iomega=500\n",
    "U = 1\n",
    "epsylon = 0.01\n",
    "\n",
    "nn = np.linspace(start=-(N_iomega-1)/2, stop=(N_iomega-1)/2, num=N_iomega, dtype=int)\n",
    "iomega = 1j*np.pi*(2*nn+1)/beta\n",
    "\n",
    "N_energy = 1000\n",
    "emin = -10.0\n",
    "emax = 10.0\n",
    "energy = np.linspace(emin, emax, N_energy)\n",
    "\n",
    "\n",
    "# analytic formula non int gf bethe\n",
    "gf_non_int=2/(D**2) * (energy - np.sqrt(energy**2-D**2, dtype=complex))\n",
    "plt.plot(energy, -gf_non_int.imag/np.pi)\n",
    "\n",
    "# analytic formula of the density\n",
    "plt.plot(energy, density_of_states_behte_non_int(energy,D))\n",
    "\n",
    "# gf on matzubara freq\n",
    "gf_non_int_matz=2/(D**2) * (iomega - np.sqrt(iomega**2-D**2, dtype=complex))\n",
    "gf_non_int_real_freq = pade_analytic_continuation(wn=iomega.imag, gf=gf_non_int_matz.reshape((1,N_iomega)))[0]"
   ]
  },
  {
   "cell_type": "markdown",
   "metadata": {},
   "source": [
    "## DMFT cycle"
   ]
  },
  {
   "cell_type": "code",
   "execution_count": 75,
   "metadata": {},
   "outputs": [
    {
     "name": "stdout",
     "output_type": "stream",
     "text": [
      "I completed iteration number 0 distance 5.038326518258231\n",
      "I completed iteration number 1 distance 6.08918804624849\n",
      "I completed iteration number 2 distance 5.73692879662857\n",
      "I completed iteration number 3 distance 6.080336806541381\n",
      "I completed iteration number 4 distance 6.060326544436201\n",
      "I completed iteration number 5 distance 6.007290672853733\n",
      "I completed iteration number 6 distance 6.046143142980369\n",
      "I completed iteration number 7 distance 6.0204676820689285\n",
      "I completed iteration number 8 distance 6.033491347867599\n",
      "I completed iteration number 9 distance 6.027997783400838\n"
     ]
    }
   ],
   "source": [
    "N_iter_max = 10\n",
    "# step 1: set Sigma_loc\n",
    "Sigma_loc = np.zeros(N_iomega)\n",
    "\n",
    "Gloc_list = []\n",
    "Gimp0_list = []\n",
    "Gimp_list = []\n",
    "\n",
    "\n",
    "for n_iter in range(N_iter_max):\n",
    "    # step 2: get local GF\n",
    "\n",
    "    # ---> define the energies where to integrate:\n",
    "    omega_n=np.pi/beta*(2*np.array(range(0,N_iomega))+1)\n",
    "    eps=np.linspace(-D,D,len(omega_n))\n",
    "    rho = density_of_states_behte_non_int(eps,D)\n",
    "\n",
    "    G_loc=get_Gloc(rho=rho,omega_n=1j*omega_n, eps=eps)\n",
    "    Gloc_list.append(G_loc)\n",
    "\n",
    "    # step 3: obtain the impurity GF\n",
    "    Gimp_non_int= 1/( (1/G_loc) + Sigma_loc )\n",
    "    Gimp0_list.append(Gimp_non_int)\n",
    "\n",
    "    # step 4: solve impurity model\n",
    "    Sigma_imp, G_imp = iterative_perturbation_theory_impurity_solver(impurity_non_int_greens_func=Gimp_non_int, iomega=1j*omega_n, U=U, beta=beta)\n",
    "    Gimp_list.append(G_imp)\n",
    "\n",
    "    # step 5:\n",
    "    if np.sum(np.abs(G_loc - G_imp))<epsylon:\n",
    "        print('I reached convergence!', )\n",
    "        break\n",
    "    else:\n",
    "        print('I completed iteration number', n_iter, 'distance', np.sum(np.abs(G_loc - G_imp)))\n",
    "        # and I start again\n",
    "        # step 1: set Sigma_loc\n",
    "        Sigma_loc = Sigma_imp"
   ]
  },
  {
   "cell_type": "code",
   "execution_count": 71,
   "metadata": {},
   "outputs": [
    {
     "data": {
      "text/plain": [
       "(-2.0, 2.0)"
      ]
     },
     "execution_count": 71,
     "metadata": {},
     "output_type": "execute_result"
    },
    {
     "data": {
      "image/png": "[encoded data removed]",
      "text/plain": [
       "<Figure size 640x480 with 1 Axes>"
      ]
     },
     "metadata": {},
     "output_type": "display_data"
    }
   ],
   "source": [
    "#local interacting\n",
    "gf_non_int_real_freq = pade_analytic_continuation(wn=omega_n, nw=len(omega_n), gf=G_loc.reshape((1,N_iomega)))[0]\n",
    "plt.plot(energy, -gf_non_int_real_freq.imag/np.pi)\n",
    "\n",
    "# imputity non interacting\n",
    "gf_non_int_real_freq = pade_analytic_continuation(wn=omega_n, nw=len(omega_n), gf=Gimp_non_int.reshape((1,N_iomega)))[0]\n",
    "plt.plot(energy, -gf_non_int_real_freq.imag/np.pi)\n",
    "\n",
    "# imputity interacting\n",
    "gf_non_int_real_freq = pade_analytic_continuation(wn=omega_n, nw=len(omega_n), gf=G_imp.reshape((1,N_iomega)))[0]\n",
    "plt.plot(energy, -gf_non_int_real_freq.imag/np.pi)\n",
    "plt.xlim(-2,2)\n",
    "plt.xlim(-2,2)"
   ]
  },
  {
   "cell_type": "code",
   "execution_count": 77,
   "metadata": {},
   "outputs": [
    {
     "data": {
      "text/plain": [
       "array([0.54333241, 0.40294551, 0.30886294, ..., 0.00203232, 0.00202824,\n",
       "       0.00202418])"
      ]
     },
     "execution_count": 77,
     "metadata": {},
     "output_type": "execute_result"
    }
   ],
   "source": [
    "(-np.array(Gloc_list).imag/np.pi).flatten()\n",
    "\n"
   ]
  },
  {
   "cell_type": "code",
   "execution_count": 76,
   "metadata": {},
   "outputs": [
    {
     "ename": "ValueError",
     "evalue": "Per-column arrays must each be 1-dimensional",
     "output_type": "error",
     "traceback": [
      "\u001b[0;31m---------------------------------------------------------------------------\u001b[0m",
      "\u001b[0;31mValueError\u001b[0m                                Traceback (most recent call last)",
      "\u001b[1;32m/Users/francesca_personal/DEV/dmft_from_scratch/011223.ipynb Cell 11\u001b[0m line \u001b[0;36m2\n\u001b[1;32m      <a href='vscode-notebook-cell:/Users/francesca_personal/DEV/dmft_from_scratch/011223.ipynb#X16sZmlsZQ%3D%3D?line=0'>1</a>\u001b[0m plts \u001b[39m=\u001b[39m []\n\u001b[0;32m----> <a href='vscode-notebook-cell:/Users/francesca_personal/DEV/dmft_from_scratch/011223.ipynb#X16sZmlsZQ%3D%3D?line=1'>2</a>\u001b[0m df \u001b[39m=\u001b[39m pd\u001b[39m.\u001b[39;49mDataFrame( data\u001b[39m=\u001b[39;49m{\u001b[39m'\u001b[39;49m\u001b[39mn_iter\u001b[39;49m\u001b[39m'\u001b[39;49m:          \u001b[39mrange\u001b[39;49m(N_iter_max),\n\u001b[1;32m      <a href='vscode-notebook-cell:/Users/francesca_personal/DEV/dmft_from_scratch/011223.ipynb#X16sZmlsZQ%3D%3D?line=2'>3</a>\u001b[0m                         \u001b[39m'\u001b[39;49m\u001b[39m-Gloc.imag/pi\u001b[39;49m\u001b[39m'\u001b[39;49m:   \u001b[39m-\u001b[39;49mnp\u001b[39m.\u001b[39;49marray(Gloc_list)\u001b[39m.\u001b[39;49mimag\u001b[39m/\u001b[39;49mnp\u001b[39m.\u001b[39;49mpi, \n\u001b[1;32m      <a href='vscode-notebook-cell:/Users/francesca_personal/DEV/dmft_from_scratch/011223.ipynb#X16sZmlsZQ%3D%3D?line=3'>4</a>\u001b[0m                         \u001b[39m'\u001b[39;49m\u001b[39m-Gimp_0.imag/pi\u001b[39;49m\u001b[39m'\u001b[39;49m: \u001b[39m-\u001b[39;49mnp\u001b[39m.\u001b[39;49marray(Gimp0_list)\u001b[39m.\u001b[39;49mimag\u001b[39m/\u001b[39;49mnp\u001b[39m.\u001b[39;49mpi,\n\u001b[1;32m      <a href='vscode-notebook-cell:/Users/francesca_personal/DEV/dmft_from_scratch/011223.ipynb#X16sZmlsZQ%3D%3D?line=4'>5</a>\u001b[0m                         \u001b[39m'\u001b[39;49m\u001b[39m-Gimp.imag/pi\u001b[39;49m\u001b[39m'\u001b[39;49m:   \u001b[39m-\u001b[39;49mnp\u001b[39m.\u001b[39;49marray(Gimp0_list)\u001b[39m.\u001b[39;49mimag\u001b[39m/\u001b[39;49mnp\u001b[39m.\u001b[39;49mpi})\n\u001b[1;32m      <a href='vscode-notebook-cell:/Users/francesca_personal/DEV/dmft_from_scratch/011223.ipynb#X16sZmlsZQ%3D%3D?line=6'>7</a>\u001b[0m df \u001b[39m=\u001b[39m df\u001b[39m.\u001b[39mset_index([\u001b[39m'\u001b[39m\u001b[39mn_iter\u001b[39m\u001b[39m'\u001b[39m])\n\u001b[1;32m      <a href='vscode-notebook-cell:/Users/francesca_personal/DEV/dmft_from_scratch/011223.ipynb#X16sZmlsZQ%3D%3D?line=7'>8</a>\u001b[0m ds\u001b[39m=\u001b[39mxr\u001b[39m.\u001b[39mDataset\u001b[39m.\u001b[39mfrom_dataframe(df)\n",
      "File \u001b[0;32m/opt/homebrew/lib/python3.11/site-packages/pandas/core/frame.py:709\u001b[0m, in \u001b[0;36mDataFrame.__init__\u001b[0;34m(self, data, index, columns, dtype, copy)\u001b[0m\n\u001b[1;32m    703\u001b[0m     mgr \u001b[39m=\u001b[39m \u001b[39mself\u001b[39m\u001b[39m.\u001b[39m_init_mgr(\n\u001b[1;32m    704\u001b[0m         data, axes\u001b[39m=\u001b[39m{\u001b[39m\"\u001b[39m\u001b[39mindex\u001b[39m\u001b[39m\"\u001b[39m: index, \u001b[39m\"\u001b[39m\u001b[39mcolumns\u001b[39m\u001b[39m\"\u001b[39m: columns}, dtype\u001b[39m=\u001b[39mdtype, copy\u001b[39m=\u001b[39mcopy\n\u001b[1;32m    705\u001b[0m     )\n\u001b[1;32m    707\u001b[0m \u001b[39melif\u001b[39;00m \u001b[39misinstance\u001b[39m(data, \u001b[39mdict\u001b[39m):\n\u001b[1;32m    708\u001b[0m     \u001b[39m# GH#38939 de facto copy defaults to False only in non-dict cases\u001b[39;00m\n\u001b[0;32m--> 709\u001b[0m     mgr \u001b[39m=\u001b[39m dict_to_mgr(data, index, columns, dtype\u001b[39m=\u001b[39;49mdtype, copy\u001b[39m=\u001b[39;49mcopy, typ\u001b[39m=\u001b[39;49mmanager)\n\u001b[1;32m    710\u001b[0m \u001b[39melif\u001b[39;00m \u001b[39misinstance\u001b[39m(data, ma\u001b[39m.\u001b[39mMaskedArray):\n\u001b[1;32m    711\u001b[0m     \u001b[39mfrom\u001b[39;00m \u001b[39mnumpy\u001b[39;00m\u001b[39m.\u001b[39;00m\u001b[39mma\u001b[39;00m \u001b[39mimport\u001b[39;00m mrecords\n",
      "File \u001b[0;32m/opt/homebrew/lib/python3.11/site-packages/pandas/core/internals/construction.py:481\u001b[0m, in \u001b[0;36mdict_to_mgr\u001b[0;34m(data, index, columns, dtype, typ, copy)\u001b[0m\n\u001b[1;32m    477\u001b[0m     \u001b[39melse\u001b[39;00m:\n\u001b[1;32m    478\u001b[0m         \u001b[39m# dtype check to exclude e.g. range objects, scalars\u001b[39;00m\n\u001b[1;32m    479\u001b[0m         arrays \u001b[39m=\u001b[39m [x\u001b[39m.\u001b[39mcopy() \u001b[39mif\u001b[39;00m \u001b[39mhasattr\u001b[39m(x, \u001b[39m\"\u001b[39m\u001b[39mdtype\u001b[39m\u001b[39m\"\u001b[39m) \u001b[39melse\u001b[39;00m x \u001b[39mfor\u001b[39;00m x \u001b[39min\u001b[39;00m arrays]\n\u001b[0;32m--> 481\u001b[0m \u001b[39mreturn\u001b[39;00m arrays_to_mgr(arrays, columns, index, dtype\u001b[39m=\u001b[39;49mdtype, typ\u001b[39m=\u001b[39;49mtyp, consolidate\u001b[39m=\u001b[39;49mcopy)\n",
      "File \u001b[0;32m/opt/homebrew/lib/python3.11/site-packages/pandas/core/internals/construction.py:115\u001b[0m, in \u001b[0;36marrays_to_mgr\u001b[0;34m(arrays, columns, index, dtype, verify_integrity, typ, consolidate)\u001b[0m\n\u001b[1;32m    112\u001b[0m \u001b[39mif\u001b[39;00m verify_integrity:\n\u001b[1;32m    113\u001b[0m     \u001b[39m# figure out the index, if necessary\u001b[39;00m\n\u001b[1;32m    114\u001b[0m     \u001b[39mif\u001b[39;00m index \u001b[39mis\u001b[39;00m \u001b[39mNone\u001b[39;00m:\n\u001b[0;32m--> 115\u001b[0m         index \u001b[39m=\u001b[39m _extract_index(arrays)\n\u001b[1;32m    116\u001b[0m     \u001b[39melse\u001b[39;00m:\n\u001b[1;32m    117\u001b[0m         index \u001b[39m=\u001b[39m ensure_index(index)\n",
      "File \u001b[0;32m/opt/homebrew/lib/python3.11/site-packages/pandas/core/internals/construction.py:642\u001b[0m, in \u001b[0;36m_extract_index\u001b[0;34m(data)\u001b[0m\n\u001b[1;32m    640\u001b[0m         raw_lengths\u001b[39m.\u001b[39mappend(\u001b[39mlen\u001b[39m(val))\n\u001b[1;32m    641\u001b[0m     \u001b[39melif\u001b[39;00m \u001b[39misinstance\u001b[39m(val, np\u001b[39m.\u001b[39mndarray) \u001b[39mand\u001b[39;00m val\u001b[39m.\u001b[39mndim \u001b[39m>\u001b[39m \u001b[39m1\u001b[39m:\n\u001b[0;32m--> 642\u001b[0m         \u001b[39mraise\u001b[39;00m \u001b[39mValueError\u001b[39;00m(\u001b[39m\"\u001b[39m\u001b[39mPer-column arrays must each be 1-dimensional\u001b[39m\u001b[39m\"\u001b[39m)\n\u001b[1;32m    644\u001b[0m \u001b[39mif\u001b[39;00m \u001b[39mnot\u001b[39;00m indexes \u001b[39mand\u001b[39;00m \u001b[39mnot\u001b[39;00m raw_lengths:\n\u001b[1;32m    645\u001b[0m     \u001b[39mraise\u001b[39;00m \u001b[39mValueError\u001b[39;00m(\u001b[39m\"\u001b[39m\u001b[39mIf using all scalar values, you must pass an index\u001b[39m\u001b[39m\"\u001b[39m)\n",
      "\u001b[0;31mValueError\u001b[0m: Per-column arrays must each be 1-dimensional"
     ]
    }
   ],
   "source": [
    "plts = []\n",
    "df = pd.DataFrame( data={'n_iter':          range(N_iter_max),\n",
    "                         'energy':          energy \n",
    "                        '-Gloc.imag/pi':   (-np.array(Gloc_list).imag/np.pi).flatten(), \n",
    "                        '-Gimp_0.imag/pi': (-np.array(Gimp0_list).imag/np.pi).flatten(),\n",
    "                        '-Gimp.imag/pi':   (-np.array(Gimp0_list).imag/np.pi).flatten()})\n",
    "\n",
    "df = df.set_index(['n_iter'])\n",
    "ds=xr.Dataset.from_dataframe(df)\n",
    "            \n",
    "plts.append(hv.Dataset(ds['-Gloc.imag/pi']).to(hv.Curve,\n",
    "                groupby=['n_iter'],dynamic=True).opts(ylim=(-0.2,1),tools=['hover','yzoom_in']))\n",
    "        \n",
    "hv.Layout([plt.opts(tools=['hover','yzoom_in'],height=400,width=400) for plt in plts]).cols(2)"
   ]
  },
  {
   "cell_type": "markdown",
   "metadata": {},
   "source": []
  },
  {
   "cell_type": "markdown",
   "metadata": {},
   "source": []
  },
  {
   "cell_type": "markdown",
   "metadata": {},
   "source": []
  },
  {
   "cell_type": "code",
   "execution_count": null,
   "metadata": {},
   "outputs": [],
   "source": [
    "        \n",
    "        plts = []\n",
    "\n",
    "        df = pd.DataFrame( data={'Freq(GHz)':     data.freq,\n",
    "                                 'Magn_curr(A)':  data.field, \n",
    "                                 'Modulus(dB)':   20*np.log10(np.abs(data.derivative)),\n",
    "                                 'Phase(rad)':    np.angle(data.derivative)\n",
    "                                 })\n",
    "\n",
    "        df = df.set_index(['Freq(GHz)', 'Magn_curr(A)'])\n",
    "        ds=xr.Dataset.from_dataframe(df)\n",
    "        \n",
    "        plts.append(hv.Dataset(ds['Modulus(dB)']).to(hv.Curve,\n",
    "                       groupby=['Freq(GHz)'],dynamic=True).opts(ylim=(-120.0,10.0),tools=['hover','yzoom_in']))\n",
    "        plts.append(hv.Dataset(ds['Phase(rad)']).to(hv.Curve,\n",
    "                       groupby=['Freq(GHz)'],dynamic=True).opts(ylim=(-np.pi,np.pi),tools=['hover','yzoom_in']))\n",
    "        \n",
    "        return hv.Layout([plt.opts(tools=['hover','yzoom_in'],height=400,width=400) for plt in plts]).cols(2)"
   ]
  }
 ],
 "metadata": {
  "kernelspec": {
   "display_name": "Python 3",
   "language": "python",
   "name": "python3"
  },
  "language_info": {
   "codemirror_mode": {
    "name": "ipython",
    "version": 3
   },
   "file_extension": ".py",
   "mimetype": "text/x-python",
   "name": "python",
   "nbconvert_exporter": "python",
   "pygments_lexer": "ipython3",
   "version": "3.11.6"
  }
 },
 "nbformat": 4,
 "nbformat_minor": 2
}
