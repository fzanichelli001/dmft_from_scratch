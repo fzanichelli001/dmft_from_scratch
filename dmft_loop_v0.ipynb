{
 "cells": [
  {
   "cell_type": "markdown",
   "id": "8d183335",
   "metadata": {},
   "source": [
    "# Impurity Solver for Anderson Impurity Model"
   ]
  },
  {
   "cell_type": "code",
   "execution_count": 16,
   "id": "8bdecf9c",
   "metadata": {},
   "outputs": [],
   "source": [
    "import numpy as np\n",
    "import matplotlib.pyplot as plt\n",
    "from numpy import pi,e,cos,sin,tan,linspace,sqrt,array,shape,reshape\n"
   ]
  },
  {
   "cell_type": "code",
   "execution_count": 218,
   "id": "347ca771",
   "metadata": {},
   "outputs": [
    {
     "data": {
      "text/plain": [
       "1"
      ]
     },
     "execution_count": 218,
     "metadata": {},
     "output_type": "execute_result"
    }
   ],
   "source": [
    "abs(int((6*beta/pi-1)/2))"
   ]
  },
  {
   "cell_type": "code",
   "execution_count": 234,
   "id": "05e01e2e",
   "metadata": {},
   "outputs": [
    {
     "data": {
      "text/plain": [
       "[<matplotlib.lines.Line2D at 0x7f9282cb07d0>]"
      ]
     },
     "execution_count": 234,
     "metadata": {},
     "output_type": "execute_result"
    },
    {
     "data": {
      "image/png": "[encoded data removed]",
      "text/plain": [
       "<Figure size 432x288 with 1 Axes>"
      ]
     },
     "metadata": {
      "needs_background": "light"
     },
     "output_type": "display_data"
    }
   ],
   "source": [
    "sigma_imp=0.6;\n",
    "T=0.05; beta=1/T; t=1; eta=0.00001\n",
    "\n",
    "\n",
    "omega_N=5 #endpoint frequency\n",
    "omega_n=pi/beta*(2*array(range(-N,N))+1)\n",
    "N=abs(int((omega_N*beta/pi-1)/2))\n",
    "\n",
    "\n",
    "eps=linspace(-2*t,2*t,len(omega_n))\n",
    "rho=1/sqrt(4.000001*t**2-eps**2)/pi\n",
    "\n",
    "def get_Gloc(rho,omega_n):\n",
    "    Gloc=np.zeros(len(omega_n))+0*1j\n",
    "    d_eps=(eps[-1]-eps[0])/len(eps)\n",
    "    for i in range(len(eps)):\n",
    "        Gloc += rho[i]/(omega_n-eps[i]-sigma_imp)*d_eps\n",
    "    return Gloc\n",
    "\n",
    "Gloc=get_Gloc(rho,1j*omega_n)\n",
    "plt.plot(omega_n,-np.imag(Gloc),'k.-')\n"
   ]
  },
  {
   "cell_type": "code",
   "execution_count": 89,
   "id": "0e93da5f",
   "metadata": {},
   "outputs": [],
   "source": [
    "\n",
    "#plt.plot(omega_n,np.real(Gloc),'r.-')"
   ]
  },
  {
   "cell_type": "code",
   "execution_count": 54,
   "id": "9ca997e6",
   "metadata": {},
   "outputs": [],
   "source": [
    "class Bethe:  \n",
    "    def __init__(self, U, Vk, k):\n",
    "        self.k = k\n",
    "        #self.spins = rnd.randint(-1,1, size=(L,L)) #creates a matrix with random elements: -1 or 0\n",
    "        #self.spins = 2*self.spins+1 #modifying the matrix so that elements are -1 or 1\n",
    "        self.U = U\n",
    "        self.Vk = Vk\n",
    "        beta=1/T\n",
    "        self.magnetization = self.get_magnetization()\n",
    "        self.energy = self.get_energy()\n",
    "\n",
    "    def get_energy(self):\n",
    "        energ = 0.\n",
    "        for i,j in itertools.product(range(self.size), repeat=2):\n",
    "            energ += -self.J * self.spins[i,j] * (self.spins[i,(j+1)%self.size] + self.spins[(i+1)%self.size,j])\n",
    "        return energ\n",
    "\n",
    "        return e\n",
    "    def get_magnetization(self):\n",
    "        m=np.sum(self.spins)\n",
    "        return m\n",
    "    \n",
    "def config_to_image(config):\n",
    "    L = config.size\n",
    "    im = np.zeros([L,L,3])\n",
    "    for i,j in itertools.product(range(L), repeat=2):\n",
    "        im[i,j,:] = (1.,0,0) if config.spins[i,j]==1 else (0.,0,0)\n",
    "    return im\n",
    "\n",
    "\n",
    "def solver():\n",
    "    ...\n",
    "    return G, Sigma"
   ]
  },
  {
   "cell_type": "code",
   "execution_count": null,
   "id": "797e6637",
   "metadata": {},
   "outputs": [],
   "source": []
  }
 ],
 "metadata": {
  "kernelspec": {
   "display_name": "Python 3",
   "language": "python",
   "name": "python3"
  },
  "language_info": {
   "codemirror_mode": {
    "name": "ipython",
    "version": 3
   },
   "file_extension": ".py",
   "mimetype": "text/x-python",
   "name": "python",
   "nbconvert_exporter": "python",
   "pygments_lexer": "ipython3",
   "version": "3.7.6"
  }
 },
 "nbformat": 4,
 "nbformat_minor": 5
}
