{
 "cells": [
  {
   "cell_type": "code",
   "execution_count": 1,
   "metadata": {},
   "outputs": [],
   "source": [
    "import sys  \n",
    "sys.path.insert(0, './codes')\n",
    "from numpy import pi,e,cos,sin,tan,linspace,sqrt,array,shape,reshape\n",
    "from pade_func import pade_analytic_continuation\n",
    "\n",
    "\n",
    "#### NOTE: hbar and k_B are equal to 1"
   ]
  },
  {
   "cell_type": "code",
   "execution_count": 2,
   "metadata": {},
   "outputs": [],
   "source": [
    "import numpy as np\n",
    "import matplotlib.pyplot as plt\n",
    "#import holoviews as hv\n",
    "#import pandas as pd\n",
    "#import xarray as xr"
   ]
  },
  {
   "cell_type": "code",
   "execution_count": 3,
   "metadata": {},
   "outputs": [],
   "source": [
    "def density_of_states_behte_non_int (omega, D):\n",
    "    '''\n",
    "    density of states of a Bethe lattice with infinite connectivity \n",
    "    (from the analytical expression of the non interacting GF)\n",
    "\n",
    "    input:      omega       real frequency/energy \n",
    "                D           bandwidth, the density of states is non zero for |omega|<D\n",
    "\n",
    "    output:     rho(omega)  densiy of states, rho(w)=2*sqrt(D^2-w^2)/pi*D^2\n",
    "    '''\n",
    "\n",
    "    return np.sqrt(4*D**2-omega**2)/(2*np.pi*D**2)\n",
    "\n",
    "\n",
    "\n",
    "beta=2\n",
    "omega_n=np.pi/beta*(2*np.array(range(-0,150))+1)\n",
    "dos_bethe=density_of_states_behte_non_int(1j*omega_n,2)\n",
    "#Gloc_bethe=get_Gloc(dos_bethe,1j*omega_n,eps,0)"
   ]
  },
  {
   "cell_type": "code",
   "execution_count": 5,
   "metadata": {},
   "outputs": [],
   "source": [
    "def f(e,beta):\n",
    "    return 1/(1+np.exp(beta*e))\n",
    "def GF_tau(tau, ek, beta):\n",
    "    return -np.exp(-ek*tau) * ( (1-f(ek,beta))*np.heaviside(tau,1) - f(ek,beta)*np.heaviside(-tau,1) )"
   ]
  },
  {
   "cell_type": "markdown",
   "metadata": {},
   "source": [
    "## Checking if Fourier transform is correct"
   ]
  },
  {
   "cell_type": "code",
   "execution_count": 8,
   "metadata": {},
   "outputs": [
    {
     "data": {
      "text/plain": [
       "[<matplotlib.lines.Line2D at 0x7f8988054590>]"
      ]
     },
     "execution_count": 8,
     "metadata": {},
     "output_type": "execute_result"
    },
    {
     "data": {
      "image/png": "[encoded data removed]",
      "text/plain": [
       "<Figure size 432x288 with 1 Axes>"
      ]
     },
     "metadata": {
      "needs_background": "light"
     },
     "output_type": "display_data"
    }
   ],
   "source": [
    "beta=5\n",
    "N_iomega=100\n",
    "nn=np.concatenate((np.array(range(-N_iomega//2,0)),np.array(range(0,N_iomega//2))),axis=None)\n",
    "omega_n=np.pi/beta*(2*nn+1)\n",
    "ek=-1.5\n",
    "tau=linspace(-beta,-1e-10,500)\n",
    "Gtau=GF_tau(tau, ek, beta)\n",
    "#plt.plot(tau,Gtau)\n",
    "\n",
    "tau=linspace(0,beta,250)\n",
    "Gtau=GF_tau(tau, ek, beta)\n",
    "plt.plot(tau,Gtau)\n",
    "\n",
    "\n",
    "G0=(1j*omega_n-ek)**(-1)\n",
    "Gtau_num=fourier_trans_to_imag_time(G0,tau,omega_n)\n",
    "plt.plot(tau,Gtau_num,'r.')"
   ]
  },
  {
   "cell_type": "markdown",
   "metadata": {},
   "source": [
    "# Functions\n",
    "## Fourier Transforms and Solver"
   ]
  },
  {
   "cell_type": "code",
   "execution_count": 7,
   "metadata": {},
   "outputs": [],
   "source": [
    "#N_cutoff = 500\n",
    "##### TODO:  CHECK THE CUTOFF FOR EVALUATING THE SUM IN THE FOURIER TRANSFORM  ############\n",
    "\n",
    "def fourier_trans_to_imag_time(G_iw, tau, omega_n):\n",
    "    '''\n",
    "    Fourier transform of a function G(i*omega_n) where i*omega_n are Matzubara frequencies\n",
    "    (needed to perform the Iterative Perturbation Theory Step)\n",
    "    \n",
    "    input:      func        G(i*omega_n): function of i*omega (Matzubara frequencies)\n",
    "                beta        inverse temperature\n",
    "                tau         imaginary time        \n",
    "\n",
    "    output:     G(tau)      function of the imaginary time (tau), G(tau)=(1/beta)* sum_(w_n)  (e^i*w_n*tau)*G(i*omega_n)\n",
    "    '''\n",
    "    \n",
    "    #nn = np.linspace(start=0, stop=N_iomega, num=N_iomega, dtype=int)\n",
    "    #matz_frequencies = np.pi*(1/beta) * (2*nn + 1)\n",
    "    #domega=(matz_frequencies[-1]-matz_frequencies[0])/beta\n",
    "    \n",
    "    G_iw_prime = G_iw - 1/(1j*omega_n)\n",
    "    exponential_iw = np.exp(np.inner(-1j*omega_n[:,np.newaxis],tau[:,np.newaxis]))\n",
    "    \n",
    "    G_iw_prime=G_iw_prime[len(omega_n)//2:]\n",
    "    exponential_iw = exponential_iw[len(omega_n)//2:]\n",
    "    intg1=np.real(exponential_iw*G_iw_prime[:,np.newaxis]) \n",
    "    \n",
    "    #intg2=\n",
    "    \n",
    "    ans1=np.sum(intg1,axis=0)*2/beta\n",
    "\n",
    "    return  ans1 - np.sign(tau)/2\n",
    "\n",
    "def inv_fourier_trans_to_omega(G_tau, tau, omega_n,dt=1e-3):\n",
    "    '''\n",
    "    Inverse Furier transform of a function G(tau) to G(iwn) where iwn are Matzubara frequencies\n",
    "    (needed to perform the Iterative Perturbation Theory Step)\n",
    "    \n",
    "    input:      func        G(i*omega_n): function of i*omega (Matzubara frequencies)\n",
    "                beta        inverse temperature\n",
    "                tau         imaginary time        \n",
    "\n",
    "    output:     G(iwn)      function of the matsubara frequencies\n",
    "    '''\n",
    "    exponential_tau = np.exp(np.inner(tau[:,np.newaxis],1j*omega_n[:,np.newaxis]))\n",
    "\n",
    "    return  np.sum(exponential_tau * G_tau[:,np.newaxis],axis=0) * (tau[-1]-tau[0])/len(tau)"
   ]
  },
  {
   "cell_type": "code",
   "execution_count": 9,
   "metadata": {},
   "outputs": [],
   "source": [
    "########### TODO: find limits of integration for the integral in time!!!  \n",
    "#time_integral_steps=1000\n",
    "\n",
    "def IPT_solver(G0, omega_n, U, beta,dt=1e-4):\n",
    "    '''\n",
    "    finds the self energy of the auxiliary Anderson impurtity model Sigma_imp\n",
    "    from this it evaluates also the interacting Green's function of the auxiliary system (G coursive)\n",
    "\n",
    "    input:      impurity_non_int_greens_func        G_0 (iomega) coursive: non interacting Green's function of the auxiliary system\n",
    "                                                                           encoded in step (3) and evaluated on Matzubara frequency\n",
    "                iomega                              Matzubara frequency i*omega_n\n",
    "                U                                   impurity interaction\n",
    "                beta                                inverse temperature  \n",
    "\n",
    "    output:     impurity_self_energy(iomega)        self energy of the auxiliary system    Sigma_imp(iw)=U/2 + U^2 * int_0^beta d(tau) (e^i*w_n*tau) * G_0^shifted(tau)^3\n",
    "                                                                                           knowing G_0^shifted(iw)= (G_0(iw)^-1  - U/2)^-1     where all the G are coursive\n",
    "                impurity_int_greens_func(iomega)    interacting GF of the auxiliary system   G(iw) = (  G_0(iw)^-1 - Sigma_imp(iw)  )^-1          where all the G are coursive\n",
    "\n",
    "    note: this fucntion uses the function fourier_trans_to_imag_time() to convert G_0^shifted(iw) coursive in imaginary time\n",
    "    '''\n",
    "\n",
    "    # I calculate G_0_shifted(iw) as a function of iomega\n",
    "    G0_shifted = 1 / ( (1/G0) - U/2 )\n",
    "\n",
    "    # I calculate the fourier transform G_0_shifted(tau)\n",
    "    tau=np.arange(0.00001,beta,dt)\n",
    "    #tau = np.linspace(start=1e-10, stop=beta+1e-10, num=time_integral_steps)\n",
    "    G0_tau_shifted_ = fourier_trans_to_imag_time(G0_shifted, tau, omega_n)\n",
    "\n",
    "    # I calculate the integral\n",
    "    G0_tau_cube=G0_tau_shifted_**3\n",
    "    integral = inv_fourier_trans_to_omega(G0_tau_cube, tau, omega_n,dt)\n",
    "    \n",
    "\n",
    "    # I get Sigma_imp and the interacting GF of the impurity\n",
    "    Sigma_imp = U/2 + U**2  * integral\n",
    "\n",
    "    #G_0_iw = impurity_non_int_greens_func\n",
    "    G_imp = 1 / ( 1/G0 - Sigma_imp )\n",
    "    return Sigma_imp, G_imp"
   ]
  },
  {
   "cell_type": "markdown",
   "metadata": {},
   "source": [
    "## DMFT cycle"
   ]
  },
  {
   "cell_type": "code",
   "execution_count": 10,
   "metadata": {},
   "outputs": [],
   "source": [
    "def dos_cubic(arg,t):\n",
    "    \"\"\" WORK IN PROGRESS \"\"\"\n",
    "    from scipy.special import ellipk\n",
    "    N=25\n",
    "    kx=-np.linspace(-pi,pi,N)\n",
    "    ky=-np.linspace(-pi,pi,N)\n",
    "    kz=-np.linspace(-pi,pi,N)\n",
    "    \n",
    "    Gloc=np.zeros(len(arg))+0*1j\n",
    "    for ix in range(len(kx)):\n",
    "        for iy in range(len(ky)):\n",
    "            for iz in range(len(kz)):\n",
    "                ek=-2*t*(cos(kx[ix])+cos(ky[iy])+cos(kz[iz]))\n",
    "                Gloc +=1/(arg-ek)/(N**3)\n",
    "    \n",
    "    return -Gloc.imag/pi\n",
    "\n",
    "def get_Gloc(omega_n,eps,sigma_imp,mu,D):\n",
    "    '''\n",
    "    get local interacting green's function\n",
    "    input:    rho           vector with density of states evaluated at all the energy steps of the integral\n",
    "              omega_n       vector with matzubara frequencies form O to N_matz_freq\n",
    "              eps           values of energies of the integration = eps=np.linspace(-D,D,len(omega_n))\n",
    "    '''\n",
    "    #sigma_imp=0.\n",
    "    rho=density_of_states_behte_non_int(eps,D)\n",
    "    Gloc=np.zeros(len(omega_n))+0*1j\n",
    "    d_eps=(eps[-1]-eps[0])/len(eps)\n",
    "\n",
    "    for i in range(len(eps)):\n",
    "        Gloc += rho[i]/(1j*omega_n+mu-eps[i]-sigma_imp)*d_eps\n",
    "    return Gloc"
   ]
  },
  {
   "cell_type": "code",
   "execution_count": 32,
   "metadata": {},
   "outputs": [
    {
     "name": "stderr",
     "output_type": "stream",
     "text": [
      "/Users/muhammedxgunes/opt/anaconda3/lib/python3.7/site-packages/ipykernel_launcher.py:12: RuntimeWarning: invalid value encountered in sqrt\n",
      "  if sys.path[0] == '':\n"
     ]
    },
    {
     "data": {
      "text/plain": [
       "[<matplotlib.lines.Line2D at 0x7f89612c2050>]"
      ]
     },
     "execution_count": 32,
     "metadata": {},
     "output_type": "execute_result"
    },
    {
     "data": {
      "image/png": "[encoded data removed]",
      "text/plain": [
       "<Figure size 432x288 with 1 Axes>"
      ]
     },
     "metadata": {
      "needs_background": "light"
     },
     "output_type": "display_data"
    }
   ],
   "source": [
    "#eps=np.linspace(-1.999*D,1.999*D,len(omega_n))\n",
    "nn=np.concatenate((np.array(range(-N_iomega//2,0)),np.array(range(0,N_iomega//2))),axis=None)\n",
    "#nn=np.array(range(0,N_iomega))\n",
    "omega_n=np.pi/beta*(2*nn+1)\n",
    "G_loc=get_Gloc(omega_n,eps,0,mu,D)\n",
    "GF = pade_analytic_continuation(wnn=omega_n,nw_out=len(energy), emin=emin, emax=emax, gff=G_loc)[0]\n",
    "plt.plot(energy, -GF.imag/np.pi)\n",
    "plt.plot(energy, density_of_states_behte_non_int(energy,1))"
   ]
  },
  {
   "cell_type": "markdown",
   "metadata": {},
   "source": [
    "# $G(\\tau)$ from non interacting Green's function. It gives information about the gap and the filling."
   ]
  },
  {
   "cell_type": "code",
   "execution_count": 30,
   "metadata": {},
   "outputs": [
    {
     "data": {
      "text/plain": [
       "Text(0.5, 0, '$\\\\tau/\\\\beta$')"
      ]
     },
     "execution_count": 30,
     "metadata": {},
     "output_type": "execute_result"
    },
    {
     "data": {
      "image/png": "[encoded data removed]",
      "text/plain": [
       "<Figure size 432x288 with 1 Axes>"
      ]
     },
     "metadata": {
      "needs_background": "light"
     },
     "output_type": "display_data"
    }
   ],
   "source": [
    "beta=50\n",
    "tau=np.arange(-beta,beta,1e-2)\n",
    "mu=0\n",
    "nn=np.concatenate((np.array(range(-N_iomega//2,0)),np.array(range(0,N_iomega//2))),axis=None)\n",
    "#nn=np.array(range(0,N_iomega))\n",
    "omega_n=np.pi/beta*(2*nn+1)\n",
    "G_loc=get_Gloc(omega_n,eps,0,mu,D)\n",
    "#plt.plot(omega_n,G_loc.imag)\n",
    "Gtau=fourier_trans_to_imag_time(G_loc, tau, omega_n)\n",
    "plt.plot(tau/beta,Gtau,'r.')\n",
    "plt.plot(np.linspace(-1,1,100),np.zeros(100),'k--')\n",
    "plt.xlabel(r'$\\tau/\\beta$')"
   ]
  },
  {
   "cell_type": "code",
   "execution_count": 35,
   "metadata": {},
   "outputs": [],
   "source": [
    "#### T=0.03\n",
    "#1/T\n",
    "D = 1\n",
    "\n",
    "epsylon = 1e-10\n",
    "emin=-10\n",
    "emax=10\n",
    "energy=np.linspace(emin,emax,100)\n",
    "mu=0\n",
    "# ---> define the energies where to integrate:\n",
    "#nn=np.linspace(start%store(N_iomega-1)/2, stop=(N_iomega-1)/2, num=N_iomega, dtype=int); omega_n=np.pi/beta*(2*nn+1)\n",
    "\n",
    "eps=np.linspace(-2*D,2*D,len(omega_n))\n",
    "#rho=1/sqrt(4.000001*D**2-eps**2)/pi\n",
    "#rho = density_of_states_behte_non_int(eps,D)\n",
    "\n",
    "#N_iter_max = 200\n",
    "# step 1: set Sigma_loc\n",
    "\n",
    "#Sigma_loc = -1/(1j*omega_n)\n",
    "\n",
    "Gloc_list = []\n",
    "Gimp0_list = []\n",
    "Gimp_list = []\n",
    "sigma_list = []\n"
   ]
  },
  {
   "cell_type": "markdown",
   "metadata": {},
   "source": [
    "every step after the IPT, choose mu so that G_loc_new gives the value of filling"
   ]
  },
  {
   "cell_type": "code",
   "execution_count": 37,
   "metadata": {
    "scrolled": false
   },
   "outputs": [
    {
     "name": "stdout",
     "output_type": "stream",
     "text": [
      "I completed iteration number 0 distance 0.1\n",
      "I completed iteration number 5 distance 237.65981680014823\n",
      "I completed iteration number 10 distance 14.9654682034997\n",
      "I completed iteration number 15 distance 8.702841488905804\n",
      "I completed iteration number 20 distance 6.1281904177623705\n",
      "I completed iteration number 25 distance 4.288982759403842\n",
      "I completed iteration number 30 distance 2.923088904110947\n",
      "I completed iteration number 35 distance 1.9573013225802325\n",
      "I completed iteration number 40 distance 1.2984595552189107\n",
      "I completed iteration number 45 distance 0.8574737926908407\n",
      "I completed iteration number 50 distance 0.5650182678852551\n",
      "I completed iteration number 55 distance 0.3719141903276211\n",
      "I completed iteration number 60 distance 0.2446758161501439\n",
      "I completed iteration number 65 distance 0.16092493304639222\n",
      "I completed iteration number 70 distance 0.10582643506151301\n",
      "I completed iteration number 75 distance 0.06958729374897255\n",
      "I completed iteration number 80 distance 0.04575565035454554\n",
      "I completed iteration number 85 distance 0.03008476148512873\n",
      "I completed iteration number 90 distance 0.019780637341600737\n",
      "I completed iteration number 95 distance 0.013005552659561381\n",
      "I completed iteration number 100 distance 0.008550943079003837\n",
      "I completed iteration number 105 distance 0.005622080566175747\n",
      "I completed iteration number 110 distance 0.003696397882630098\n",
      "I completed iteration number 115 distance 0.0024302975313759134\n",
      "I completed iteration number 120 distance 0.0015978631455908499\n",
      "I completed iteration number 125 distance 0.0010505562763341025\n",
      "I completed iteration number 130 distance 0.0006907148703820809\n",
      "I completed iteration number 135 distance 0.0004541278341738675\n",
      "I completed iteration number 140 distance 0.0002985776704873544\n",
      "I completed iteration number 145 distance 0.00019630730311392952\n",
      "I completed iteration number 150 distance 0.00012906709641757885\n",
      "I completed iteration number 155 distance 8.485835167038047e-05\n",
      "I completed iteration number 160 distance 5.57922174335701e-05\n",
      "I completed iteration number 165 distance 3.66819690267306e-05\n",
      "I completed iteration number 170 distance 2.4117464554773704e-05\n",
      "I completed iteration number 175 distance 1.585662120628939e-05\n",
      "I completed iteration number 180 distance 1.0425326146368263e-05\n",
      "I completed iteration number 185 distance 6.854387354149338e-06\n",
      "I completed iteration number 190 distance 4.506585751240522e-06\n",
      "I completed iteration number 195 distance 2.962965754527147e-06\n",
      "I completed iteration number 200 distance 1.9480747619482486e-06\n",
      "I completed iteration number 205 distance 1.2808097862304635e-06\n",
      "I completed iteration number 210 distance 8.420999186853351e-07\n",
      "I completed iteration number 215 distance 5.53659286417485e-07\n",
      "I completed iteration number 220 distance 3.6401697345311845e-07\n",
      "I completed iteration number 225 distance 2.3933186099611703e-07\n",
      "I completed iteration number 230 distance 1.5735465641597557e-07\n",
      "I completed iteration number 235 distance 1.034567178592738e-07\n",
      "I completed iteration number 240 distance 6.80201797109703e-08\n",
      "I completed iteration number 245 distance 4.4721470970898736e-08\n",
      "I completed iteration number 250 distance 2.9403272705508243e-08\n",
      "I completed iteration number 255 distance 1.9331888090334814e-08\n",
      "I completed iteration number 260 distance 1.2710232866197657e-08\n",
      "I completed iteration number 265 distance 8.356638936390937e-09\n",
      "I completed iteration number 270 distance 5.494280586049172e-09\n",
      "I completed iteration number 275 distance 3.612334875668921e-09\n",
      "I completed iteration number 280 distance 2.375021512790454e-09\n",
      "I completed iteration number 285 distance 1.5615113646560985e-09\n",
      "I completed iteration number 290 distance 1.026612128640636e-09\n",
      "I completed iteration number 295 distance 6.75024924845502e-10\n",
      "I completed iteration number 300 distance 4.438041045773389e-10\n",
      "I completed iteration number 305 distance 2.917430741433691e-10\n",
      "I completed iteration number 310 distance 1.918363246034005e-10\n",
      "I completed iteration number 315 distance 1.2615020139605804e-10\n",
      "I reached convergence!\n"
     ]
    }
   ],
   "source": [
    "N_iomega=200\n",
    "U = 1 *4/sqrt(2)\n",
    "beta=50\n",
    "\n",
    "nn=np.concatenate((np.array(range(-N_iomega//2,0)),np.array(range(0,N_iomega//2))),axis=None)\n",
    "#nn=np.array(range(0,N_iomega))\n",
    "omega_n=np.pi/beta*(2*nn+1)\n",
    "\n",
    "\n",
    "Sigma_loc = np.zeros(N_iomega)+0*1j\n",
    "Sigma_imp = np.zeros(N_iomega)\n",
    "dist=.1\n",
    "c=0\n",
    "#for n_iter in range(N_iter_max):\n",
    "while dist>epsylon:\n",
    "    \"\"\"dt and N_iomega must be adjusted adaptively\"\"\"\n",
    "    \n",
    "    # step 2: get local GF\n",
    "    G_loc=get_Gloc(omega_n,eps,Sigma_loc,mu,D)\n",
    "    Gloc_list.append(G_loc)\n",
    "    #plt.plot(omega_n,-np.imag(G_loc))\n",
    "    # step 3: obtain the impurity GF\n",
    "    G0= 1/( (1/G_loc) + Sigma_loc )\n",
    "    Gimp0_list.append(G0)\n",
    "\n",
    "    # step 4: solve impurity model\n",
    "    Sigma_imp, G_imp = IPT_solver(G0,omega_n,U,beta,dt=5e-3)\n",
    "    Gimp_list.append(G_imp)\n",
    "    sigma_list.append(Sigma_imp)\n",
    "    G_loc_new=get_Gloc(omega_n,eps,Sigma_imp,mu,D)\n",
    "    \n",
    "    #G0_new=1/( (1/G_imp) + Sigma_imp )\n",
    "    # step 5:\n",
    "    if np.mod(c,5)==0:\n",
    "        #print(np.sum(Sigma_loc))\n",
    "        #print(G_loc[0])\n",
    "        print('I completed iteration number', c, 'distance',dist)\n",
    "        dist=np.abs(np.sum(Sigma_loc - Sigma_imp))\n",
    "        alpha=1\n",
    "        Sigma_loc = alpha*Sigma_imp+(1-alpha)*Sigma_loc\n",
    "        mu=(Sigma_imp[-1]).real\n",
    "        \n",
    "    c += 1\n",
    "        #G_loc=G_imp\n",
    "        \n",
    "print('I reached convergence!', )\n"
   ]
  },
  {
   "cell_type": "code",
   "execution_count": 38,
   "metadata": {},
   "outputs": [
    {
     "data": {
      "text/plain": [
       "[<matplotlib.lines.Line2D at 0x7f8969b9c690>]"
      ]
     },
     "execution_count": 38,
     "metadata": {},
     "output_type": "execute_result"
    },
    {
     "data": {
      "image/png": "[encoded data removed]",
      "text/plain": [
       "<Figure size 432x288 with 1 Axes>"
      ]
     },
     "metadata": {
      "needs_background": "light"
     },
     "output_type": "display_data"
    }
   ],
   "source": [
    "#This is G(tau). its value at tau=beta gives the filling (with minus sign). For our initial case, \n",
    "#both ends of G(tau) should be -0.5. If it's tilting, it is not half filled.\n",
    "\n",
    "tau=np.arange(0.001,beta,1e-3)\n",
    "Gtau=fourier_trans_to_imag_time(G_loc_new, tau, omega_n)\n",
    "plt.plot(tau,Gtau)"
   ]
  },
  {
   "cell_type": "code",
   "execution_count": 39,
   "metadata": {},
   "outputs": [
    {
     "data": {
      "text/plain": [
       "[<matplotlib.lines.Line2D at 0x7f896142cd90>]"
      ]
     },
     "execution_count": 39,
     "metadata": {},
     "output_type": "execute_result"
    },
    {
     "data": {
      "image/png": "[encoded data removed]",
      "text/plain": [
       "<Figure size 432x288 with 1 Axes>"
      ]
     },
     "metadata": {
      "needs_background": "light"
     },
     "output_type": "display_data"
    }
   ],
   "source": [
    "#Spectrum\n",
    "\n",
    "from pade_func import pade_analytic_continuation\n",
    "#local interacting\n",
    "GF = pade_analytic_continuation(wnn=omega_n,nw_out=len(energy), emin=emin, emax=emax, gff=G_loc_new)[0]\n",
    "plt.plot(energy, -GF.imag/np.pi)\n"
   ]
  },
  {
   "cell_type": "code",
   "execution_count": 42,
   "metadata": {},
   "outputs": [
    {
     "data": {
      "text/plain": [
       "1.414213562373095"
      ]
     },
     "execution_count": 42,
     "metadata": {},
     "output_type": "execute_result"
    }
   ],
   "source": []
  },
  {
   "cell_type": "code",
   "execution_count": 44,
   "metadata": {},
   "outputs": [
    {
     "name": "stdout",
     "output_type": "stream",
     "text": [
      "1.4083498484723547 1.414213562373095\n"
     ]
    }
   ],
   "source": [
    "#check sigma as omega --> infinity (it should be U/2 for half filling)\n",
    "print(Sigma_imp[-1].real,U/2)"
   ]
  },
  {
   "cell_type": "markdown",
   "metadata": {},
   "source": [
    "# Check the Metalic vs Insulating State\n",
    "## This information is given by the imaginary part of $\\Sigma(i\\omega_n)$. If it is zero at $\\omega_n=0$, it is metallic, if it is diverging then it is insulator."
   ]
  },
  {
   "cell_type": "code",
   "execution_count": 45,
   "metadata": {},
   "outputs": [
    {
     "data": {
      "text/plain": [
       "[<matplotlib.lines.Line2D at 0x7f89613f0f10>]"
      ]
     },
     "execution_count": 45,
     "metadata": {},
     "output_type": "execute_result"
    },
    {
     "data": {
      "image/png": "[encoded data removed]",
      "text/plain": [
       "<Figure size 432x288 with 1 Axes>"
      ]
     },
     "metadata": {
      "needs_background": "light"
     },
     "output_type": "display_data"
    }
   ],
   "source": [
    "#plt.plot(omega_n,sigma_list[0].imag)\n",
    "plt.plot(omega_n,Sigma_imp.imag,'r.')\n",
    "#plt.ylim(0,1)"
   ]
  },
  {
   "cell_type": "markdown",
   "metadata": {},
   "source": [
    "After this point is chaotic scripts that I did not finalize lol"
   ]
  },
  {
   "cell_type": "code",
   "execution_count": null,
   "metadata": {},
   "outputs": [],
   "source": [
    "## plts = []\n",
    "df = pd.DataFrame( data={'n_iter':          range(N_iter_max),\n",
    "                         'energy':          energy \n",
    "                        '-Gloc.imag/pi':   (-np.array(Gloc_list).imag/np.pi).flatten(), \n",
    "                        '-Gimp_0.imag/pi': (-np.array(Gimp0_list).imag/np.pi).flatten(),\n",
    "                        '-Gimp.imag/pi':   (-np.array(Gimp0_list).imag/np.pi).flatten()})\n",
    "\n",
    "df = df.set_index(['n_iter'])\n",
    "ds=xr.Dataset.from_dataframe(df)\n",
    "            \n",
    "plts.append(hv.Dataset(ds['-Gloc.imag/pi']).to(hv.Curve,\n",
    "                groupby=['n_iter'],dynamic=True).opts(ylim=(-0.2,1),tools=['hover','yzoom_in']))\n",
    "        \n",
    "hv.Layout([plt.opts(tools=['hover','yzoom_in'],height=400,width=400) for plt in plts]).cols(2)"
   ]
  },
  {
   "cell_type": "markdown",
   "metadata": {},
   "source": []
  },
  {
   "cell_type": "markdown",
   "metadata": {},
   "source": []
  },
  {
   "cell_type": "markdown",
   "metadata": {},
   "source": []
  },
  {
   "cell_type": "markdown",
   "metadata": {},
   "source": [
    "## Test of analytic continuation for the Bethe lattice "
   ]
  },
  {
   "cell_type": "code",
   "execution_count": null,
   "metadata": {},
   "outputs": [],
   "source": [
    "beta=20\n",
    "D = 1\n",
    "N_iomega=500\n",
    "U = 1\n",
    "epsylon = 0.01\n",
    "\n",
    "nn = np.linspace(start=0, stop=N_iomega-1, num=N_iomega, dtype=int)\n",
    "iomega = 1j*np.pi/beta*(2*np.array(range(0,N_iomega))+1)\n",
    "\n",
    "N_energy = 1000\n",
    "emin = -2.0\n",
    "emax = 2.0\n",
    "energy = np.linspace(emin, emax, N_energy)\n",
    "rho_1d=1/sqrt(4.00001*D**2-energy**2)/pi\n",
    "\n",
    "# analytic formula non int gf bethe\n",
    "gf_non_int=2/(D**2) * (energy - np.sqrt(energy**2-D**2, dtype=complex))\n",
    "#plt.plot(energy, -gf_non_int.imag/np.pi)\n",
    "\n",
    "# analytic formula of the density\n",
    "#plt.plot(energy, density_of_states_behte_non_int(energy,D),'-')\n",
    "plt.plot(energy, rho_1d,'-')\n",
    "\n",
    "Gloc=get_Gloc(rho_1d,iomega,energy,0)\n",
    "# gf on matzubara freq\n",
    "gf_non_int_matz=Gloc#2/(D**2) * (iomega - np.sqrt(iomega**2-D**2, dtype=complex))\n",
    "gf_non_int_real_freq = pade_analytic_continuation(wn=iomega.imag, nw=N_iomega, nw_out=N_energy, emin=-2, emax=2, gf=gf_non_int_matz.reshape((1,N_iomega)))[0]\n",
    "\n",
    "plt.plot(energy, -gf_non_int_real_freq.imag/np.pi,'r-.')\n",
    "plt.ylim(0,10)"
   ]
  },
  {
   "cell_type": "code",
   "execution_count": null,
   "metadata": {},
   "outputs": [],
   "source": [
    "from scipy.special import ellipkm1\n",
    "dphi=1e-2\n",
    "t=1\n",
    "phi=-np.arange(-pi,pi,dphi)\n",
    "dos=np.zeros(len(eps))\n",
    "\n",
    "for i in range(len(phi)):\n",
    "    dos += 1/(4*pi**3*t)* np.sum(ellipkm1(    sqrt(1-((eps+2*t*cos(phi[i])))/(4*t) )   ))\n",
    "\n",
    "plt.plot(eps,dos)"
   ]
  },
  {
   "cell_type": "code",
   "execution_count": 33,
   "metadata": {},
   "outputs": [
    {
     "ename": "ModuleNotFoundError",
     "evalue": "No module named 'gftool'",
     "output_type": "error",
     "traceback": [
      "\u001b[0;31m---------------------------------------------------------------------------\u001b[0m",
      "\u001b[0;31mModuleNotFoundError\u001b[0m                       Traceback (most recent call last)",
      "\u001b[0;32m<ipython-input-33-d381d54444ae>\u001b[0m in \u001b[0;36m<module>\u001b[0;34m\u001b[0m\n\u001b[1;32m      3\u001b[0m \u001b[0mdos\u001b[0m\u001b[0;34m=\u001b[0m\u001b[0mdos_cubic\u001b[0m\u001b[0;34m(\u001b[0m\u001b[0meps\u001b[0m \u001b[0;34m+\u001b[0m \u001b[0;36m1j\u001b[0m\u001b[0;34m*\u001b[0m\u001b[0;36m0.001\u001b[0m\u001b[0;34m,\u001b[0m\u001b[0;36m1\u001b[0m\u001b[0;34m)\u001b[0m\u001b[0;34m\u001b[0m\u001b[0;34m\u001b[0m\u001b[0m\n\u001b[1;32m      4\u001b[0m \u001b[0mplt\u001b[0m\u001b[0;34m.\u001b[0m\u001b[0mplot\u001b[0m\u001b[0;34m(\u001b[0m\u001b[0meps\u001b[0m\u001b[0;34m,\u001b[0m\u001b[0mdos\u001b[0m\u001b[0;34m)\u001b[0m\u001b[0;34m\u001b[0m\u001b[0;34m\u001b[0m\u001b[0m\n\u001b[0;32m----> 5\u001b[0;31m \u001b[0;32mimport\u001b[0m \u001b[0mgftool\u001b[0m \u001b[0;32mas\u001b[0m \u001b[0mgt\u001b[0m\u001b[0;34m\u001b[0m\u001b[0;34m\u001b[0m\u001b[0m\n\u001b[0m\u001b[1;32m      6\u001b[0m \u001b[0;34m\u001b[0m\u001b[0m\n\u001b[1;32m      7\u001b[0m \u001b[0meps\u001b[0m \u001b[0;34m=\u001b[0m \u001b[0mnp\u001b[0m\u001b[0;34m.\u001b[0m\u001b[0mlinspace\u001b[0m\u001b[0;34m(\u001b[0m\u001b[0;34m-\u001b[0m\u001b[0;36m1.2\u001b[0m\u001b[0;34m,\u001b[0m \u001b[0;36m1.2\u001b[0m\u001b[0;34m,\u001b[0m \u001b[0mnum\u001b[0m\u001b[0;34m=\u001b[0m\u001b[0;36m6001\u001b[0m\u001b[0;34m)\u001b[0m\u001b[0;34m\u001b[0m\u001b[0;34m\u001b[0m\u001b[0m\n",
      "\u001b[0;31mModuleNotFoundError\u001b[0m: No module named 'gftool'"
     ]
    },
    {
     "data": {
      "image/png": "[encoded data removed]",
      "text/plain": [
       "<Figure size 432x288 with 1 Axes>"
      ]
     },
     "metadata": {
      "needs_background": "light"
     },
     "output_type": "display_data"
    }
   ],
   "source": [
    "mu=0\n",
    "eps=np.linspace(-6,6,1000)\n",
    "dos=dos_cubic(eps + 1j*0.001,1)\n",
    "plt.plot(eps,dos)\n",
    "import gftool as gt\n",
    "\n",
    "eps = np.linspace(-1.2, 1.2, num=6001)\n",
    "dos = gt.sc_dos(eps, half_bandwidth=1)"
   ]
  },
  {
   "cell_type": "code",
   "execution_count": null,
   "metadata": {},
   "outputs": [],
   "source": [
    "        \n",
    "        plts = []\n",
    "\n",
    "        df = pd.DataFrame( data={'Freq(GHz)':     data.freq,\n",
    "                                 'Magn_curr(A)':  data.field, \n",
    "                                 'Modulus(dB)':   20*np.log10(np.abs(data.derivative)),\n",
    "                                 'Phase(rad)':    np.angle(data.derivative)\n",
    "                                 })\n",
    "\n",
    "        df = df.set_index(['Freq(GHz)', 'Magn_curr(A)'])\n",
    "        ds=xr.Dataset.from_dataframe(df)\n",
    "        \n",
    "        plts.append(hv.Dataset(ds['Modulus(dB)']).to(hv.Curve,\n",
    "                       groupby=['Freq(GHz)'],dynamic=True).opts(ylim=(-120.0,10.0),tools=['hover','yzoom_in']))\n",
    "        plts.append(hv.Dataset(ds['Phase(rad)']).to(hv.Curve,\n",
    "                       groupby=['Freq(GHz)'],dynamic=True).opts(ylim=(-np.pi,np.pi),tools=['hover','yzoom_in']))\n",
    "        \n",
    "        return hv.Layout([plt.opts(tools=['hover','yzoom_in'],height=400,width=400) for plt in plts]).cols(2)"
   ]
  }
 ],
 "metadata": {
  "kernelspec": {
   "display_name": "Python 3",
   "language": "python",
   "name": "python3"
  },
  "language_info": {
   "codemirror_mode": {
    "name": "ipython",
    "version": 3
   },
   "file_extension": ".py",
   "mimetype": "text/x-python",
   "name": "python",
   "nbconvert_exporter": "python",
   "pygments_lexer": "ipython3",
   "version": "3.7.6"
  }
 },
 "nbformat": 4,
 "nbformat_minor": 2
}
